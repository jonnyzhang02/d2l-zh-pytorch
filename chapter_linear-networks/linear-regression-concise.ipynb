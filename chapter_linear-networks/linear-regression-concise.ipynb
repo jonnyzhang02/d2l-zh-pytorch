{
 "cells": [
  {
   "cell_type": "markdown",
   "id": "bd40d0d5",
   "metadata": {
    "slideshow": {
     "slide_type": "slide"
    }
   },
   "source": [
    "# 线性回归的简洁实现\n",
    "\n",
    "通过使用深度学习框架来简洁地实现\n",
    "线性回归模型\n",
    "生成数据集"
   ]
  },
  {
   "cell_type": "code",
   "execution_count": 13,
   "id": "492c9787",
   "metadata": {
    "execution": {
     "iopub.execute_input": "2022-12-07T16:40:08.226745Z",
     "iopub.status.busy": "2022-12-07T16:40:08.226129Z",
     "iopub.status.idle": "2022-12-07T16:40:08.250195Z",
     "shell.execute_reply": "2022-12-07T16:40:08.249372Z"
    },
    "origin_pos": 5,
    "tab": [
     "pytorch"
    ]
   },
   "outputs": [
    {
     "name": "stdout",
     "output_type": "stream",
     "text": [
      "features: torch.Size([1000, 2]) \n",
      "label: torch.Size([1000, 1])\n"
     ]
    }
   ],
   "source": [
    "import numpy as np\n",
    "import torch\n",
    "from torch.utils import data\n",
    "from d2l import torch as d2l\n",
    "\n",
    "true_w = torch.tensor([2, -3.4])\n",
    "true_b = 4.2\n",
    "features, labels = d2l.synthetic_data(true_w, true_b, 1000)\n",
    "print('features:', features.shape, '\\nlabel:', labels.shape)"
   ]
  },
  {
   "cell_type": "markdown",
   "id": "b4beb022",
   "metadata": {
    "slideshow": {
     "slide_type": "slide"
    }
   },
   "source": [
    "调用框架中现有的API来读取数据"
   ]
  },
  {
   "cell_type": "code",
   "execution_count": 14,
   "id": "c385b021",
   "metadata": {
    "execution": {
     "iopub.execute_input": "2022-12-07T16:40:08.268516Z",
     "iopub.status.busy": "2022-12-07T16:40:08.268231Z",
     "iopub.status.idle": "2022-12-07T16:40:08.278118Z",
     "shell.execute_reply": "2022-12-07T16:40:08.277341Z"
    },
    "origin_pos": 13,
    "tab": [
     "pytorch"
    ]
   },
   "outputs": [
    {
     "name": "stdout",
     "output_type": "stream",
     "text": [
      "(tensor([-0.7544,  0.0232]), tensor([2.6156]))\n"
     ]
    },
    {
     "data": {
      "text/plain": [
       "[tensor([[ 1.1843, -0.5124],\n",
       "         [-0.1763,  0.4498],\n",
       "         [-1.5459,  1.7881],\n",
       "         [-1.1444,  0.5178],\n",
       "         [-1.4904, -0.0096],\n",
       "         [-0.6372, -0.5577],\n",
       "         [ 0.0734, -0.5525],\n",
       "         [ 0.7379,  1.7341],\n",
       "         [-0.1173,  0.9498],\n",
       "         [ 0.0948, -1.6577]]),\n",
       " tensor([[ 8.3007],\n",
       "         [ 2.3187],\n",
       "         [-4.9619],\n",
       "         [ 0.1427],\n",
       "         [ 1.2493],\n",
       "         [ 4.8136],\n",
       "         [ 6.2474],\n",
       "         [-0.2218],\n",
       "         [ 0.7421],\n",
       "         [10.0243]])]"
      ]
     },
     "execution_count": 14,
     "metadata": {},
     "output_type": "execute_result"
    }
   ],
   "source": [
    "'''\n",
    "Author       : JonnyZhang 71881972+jonnyzhang02@users.noreply.github.com\n",
    "LastEditTime : 2023-07-18 18:51\n",
    "FilePath     : \\d2l-zh-pytorch\\chapter_linear-networks\\linear-regression-concise.ipynb\n",
    "\n",
    "coded by ZhangYang@BUPT, my email is zhangynag0207@bupt.edu.cn\n",
    "'''\n",
    "def load_array(data_arrays, batch_size, is_train=True):  \n",
    "    \"\"\"构造一个PyTorch数据迭代器\"\"\"\n",
    "    dataset = data.TensorDataset(*data_arrays)\n",
    "    print(dataset[0])\n",
    "    # shuffle: 是否需要打乱数据\n",
    "    return data.DataLoader(dataset, batch_size, shuffle=is_train)\n",
    "\n",
    "batch_size = 10\n",
    "data_iter = load_array((features, labels), batch_size)\n",
    "\n",
    "next(iter(data_iter))"
   ]
  },
  {
   "cell_type": "markdown",
   "id": "8d8c6f9e",
   "metadata": {
    "slideshow": {
     "slide_type": "slide"
    }
   },
   "source": [
    "使用框架的预定义好的层"
   ]
  },
  {
   "cell_type": "code",
   "execution_count": 15,
   "id": "13342bcf",
   "metadata": {
    "execution": {
     "iopub.execute_input": "2022-12-07T16:40:08.282230Z",
     "iopub.status.busy": "2022-12-07T16:40:08.281772Z",
     "iopub.status.idle": "2022-12-07T16:40:08.286290Z",
     "shell.execute_reply": "2022-12-07T16:40:08.285536Z"
    },
    "origin_pos": 20,
    "tab": [
     "pytorch"
    ]
   },
   "outputs": [],
   "source": [
    "from torch import nn\n",
    "\n",
    "# `nn` 是神经网络的缩写\n",
    "# Sequential实例可以看作是一个串联各个层的容器\n",
    "# 线性回归就是一个单层线性神经网络\n",
    "net = nn.Sequential(nn.Linear(2, 1))"
   ]
  },
  {
   "cell_type": "markdown",
   "id": "683f500e",
   "metadata": {
    "slideshow": {
     "slide_type": "-"
    }
   },
   "source": [
    "初始化模型参数"
   ]
  },
  {
   "cell_type": "code",
   "execution_count": 16,
   "id": "9ea9617d",
   "metadata": {
    "execution": {
     "iopub.execute_input": "2022-12-07T16:40:08.290171Z",
     "iopub.status.busy": "2022-12-07T16:40:08.289637Z",
     "iopub.status.idle": "2022-12-07T16:40:08.295641Z",
     "shell.execute_reply": "2022-12-07T16:40:08.294803Z"
    },
    "origin_pos": 29,
    "tab": [
     "pytorch"
    ]
   },
   "outputs": [
    {
     "data": {
      "text/plain": [
       "tensor([0.])"
      ]
     },
     "execution_count": 16,
     "metadata": {},
     "output_type": "execute_result"
    }
   ],
   "source": [
    "net[0].weight.data.normal_(0, 0.01)  # 初始化权重\n",
    "net[0].bias.data.fill_(0)            # 初始化偏差"
   ]
  },
  {
   "cell_type": "markdown",
   "id": "094da740",
   "metadata": {
    "slideshow": {
     "slide_type": "slide"
    }
   },
   "source": [
    "计算均方误差使用的是`MSELoss`类，也称为平方$L_2$范数"
   ]
  },
  {
   "cell_type": "code",
   "execution_count": 17,
   "id": "dae1e123",
   "metadata": {
    "execution": {
     "iopub.execute_input": "2022-12-07T16:40:08.299916Z",
     "iopub.status.busy": "2022-12-07T16:40:08.299231Z",
     "iopub.status.idle": "2022-12-07T16:40:08.303013Z",
     "shell.execute_reply": "2022-12-07T16:40:08.302224Z"
    },
    "origin_pos": 41,
    "tab": [
     "pytorch"
    ]
   },
   "outputs": [],
   "source": [
    "loss = nn.MSELoss()   # 均方损失函数\n",
    "# MSE : Mean Squared Error  pytorch已经求平均了"
   ]
  },
  {
   "cell_type": "markdown",
   "id": "2f414b3a",
   "metadata": {
    "slideshow": {
     "slide_type": "-"
    }
   },
   "source": [
    "实例化一个`SGD`实例"
   ]
  },
  {
   "cell_type": "code",
   "execution_count": 18,
   "id": "7e63bb44",
   "metadata": {
    "execution": {
     "iopub.execute_input": "2022-12-07T16:40:08.306740Z",
     "iopub.status.busy": "2022-12-07T16:40:08.306397Z",
     "iopub.status.idle": "2022-12-07T16:40:08.310518Z",
     "shell.execute_reply": "2022-12-07T16:40:08.309695Z"
    },
    "origin_pos": 50,
    "tab": [
     "pytorch"
    ]
   },
   "outputs": [],
   "source": [
    "trainer = torch.optim.SGD(net.parameters(), lr=0.03)\n",
    "# SGD: 随机梯度下降 (Stochastic Gradient Descent)"
   ]
  },
  {
   "cell_type": "markdown",
   "id": "81a54a2f",
   "metadata": {
    "slideshow": {
     "slide_type": "slide"
    }
   },
   "source": [
    "训练过程代码与我们从零开始实现时所做的非常相似"
   ]
  },
  {
   "cell_type": "code",
   "execution_count": 19,
   "id": "7c7e7f97",
   "metadata": {
    "execution": {
     "iopub.execute_input": "2022-12-07T16:40:08.314209Z",
     "iopub.status.busy": "2022-12-07T16:40:08.313925Z",
     "iopub.status.idle": "2022-12-07T16:40:08.475315Z",
     "shell.execute_reply": "2022-12-07T16:40:08.474324Z"
    },
    "origin_pos": 55,
    "tab": [
     "pytorch"
    ]
   },
   "outputs": [
    {
     "name": "stdout",
     "output_type": "stream",
     "text": [
      "epoch 1, loss 0.000327\n",
      "epoch 2, loss 0.000109\n",
      "epoch 3, loss 0.000110\n"
     ]
    }
   ],
   "source": [
    "num_epochs = 3\n",
    "for epoch in range(num_epochs):\n",
    "    for X, y in data_iter:\n",
    "        l = loss(net(X) ,y)\n",
    "        trainer.zero_grad() # 梯度清零，等价于net.zero_grad()\n",
    "        l.backward()        # 反向传播\n",
    "        trainer.step()      # 更新参数\n",
    "    l = loss(net(features), labels)\n",
    "    print(f'epoch {epoch + 1}, loss {l:f}')"
   ]
  },
  {
   "cell_type": "markdown",
   "id": "e5c44094",
   "metadata": {
    "slideshow": {
     "slide_type": "slide"
    }
   },
   "source": [
    "比较生成数据集的真实参数和通过有限数据训练获得的模型参数"
   ]
  },
  {
   "cell_type": "code",
   "execution_count": 20,
   "id": "cb0a1a73",
   "metadata": {
    "execution": {
     "iopub.execute_input": "2022-12-07T16:40:08.479279Z",
     "iopub.status.busy": "2022-12-07T16:40:08.478697Z",
     "iopub.status.idle": "2022-12-07T16:40:08.484928Z",
     "shell.execute_reply": "2022-12-07T16:40:08.484141Z"
    },
    "origin_pos": 60,
    "tab": [
     "pytorch"
    ]
   },
   "outputs": [
    {
     "name": "stdout",
     "output_type": "stream",
     "text": [
      "w的估计误差： tensor([-0.0012, -0.0005])\n",
      "b的估计误差： tensor([-0.0002])\n"
     ]
    }
   ],
   "source": [
    "w = net[0].weight.data\n",
    "print('w的估计误差：', true_w - w.reshape(true_w.shape))\n",
    "b = net[0].bias.data\n",
    "print('b的估计误差：', true_b - b)"
   ]
  }
 ],
 "metadata": {
  "celltoolbar": "Slideshow",
  "kernelspec": {
   "display_name": "d2l-zh",
   "language": "python",
   "name": "python3"
  },
  "language_info": {
   "codemirror_mode": {
    "name": "ipython",
    "version": 3
   },
   "file_extension": ".py",
   "mimetype": "text/x-python",
   "name": "python",
   "nbconvert_exporter": "python",
   "pygments_lexer": "ipython3",
   "version": "3.8.17"
  },
  "rise": {
   "autolaunch": true,
   "enable_chalkboard": true,
   "overlay": "<div class='my-top-right'><img height=80px src='http://d2l.ai/_static/logo-with-text.png'/></div><div class='my-top-left'></div>",
   "scroll": true
  }
 },
 "nbformat": 4,
 "nbformat_minor": 5
}
