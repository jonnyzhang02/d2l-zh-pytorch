{
 "cells": [
  {
   "cell_type": "markdown",
   "id": "9793d1f8",
   "metadata": {
    "slideshow": {
     "slide_type": "-"
    }
   },
   "source": [
    "# 自定义层\n",
    "\n",
    "构造一个没有任何参数的自定义层"
   ]
  },
  {
   "cell_type": "code",
   "execution_count": 2,
   "id": "4b4d1d06",
   "metadata": {
    "execution": {
     "iopub.execute_input": "2022-12-07T17:00:43.842407Z",
     "iopub.status.busy": "2022-12-07T17:00:43.841864Z",
     "iopub.status.idle": "2022-12-07T17:00:43.856009Z",
     "shell.execute_reply": "2022-12-07T17:00:43.855164Z"
    },
    "origin_pos": 7,
    "tab": [
     "pytorch"
    ]
   },
   "outputs": [
    {
     "data": {
      "text/plain": [
       "tensor([-2., -1.,  0.,  1.,  2.])"
      ]
     },
     "execution_count": 2,
     "metadata": {},
     "output_type": "execute_result"
    }
   ],
   "source": [
    "import torch\n",
    "import torch.nn.functional as F\n",
    "from torch import nn\n",
    "\n",
    "# 自定义层与自定义网络没有本质区别，因为他们都是`Module`的子类\n",
    "\n",
    "class CenteredLayer(nn.Module):\n",
    "    def __init__(self):\n",
    "        super().__init__()\n",
    "\n",
    "    def forward(self, X):\n",
    "        return X - X.mean()\n",
    "\n",
    "layer = CenteredLayer()\n",
    "layer(torch.FloatTensor([1, 2, 3, 4, 5]))"
   ]
  },
  {
   "cell_type": "markdown",
   "id": "136f4c0f",
   "metadata": {
    "slideshow": {
     "slide_type": "slide"
    }
   },
   "source": [
    "将层作为组件合并到更复杂的模型中"
   ]
  },
  {
   "cell_type": "code",
   "execution_count": 3,
   "id": "235e88c8",
   "metadata": {
    "execution": {
     "iopub.execute_input": "2022-12-07T17:00:43.868175Z",
     "iopub.status.busy": "2022-12-07T17:00:43.867649Z",
     "iopub.status.idle": "2022-12-07T17:00:43.873777Z",
     "shell.execute_reply": "2022-12-07T17:00:43.873018Z"
    },
    "origin_pos": 16,
    "tab": [
     "pytorch"
    ]
   },
   "outputs": [
    {
     "data": {
      "text/plain": [
       "tensor(1.8626e-09, grad_fn=<MeanBackward0>)"
      ]
     },
     "execution_count": 3,
     "metadata": {},
     "output_type": "execute_result"
    }
   ],
   "source": [
    "net = nn.Sequential(nn.Linear(8, 128), CenteredLayer())\n",
    "\n",
    "Y = net(torch.rand(4, 8))\n",
    "Y.mean()"
   ]
  },
  {
   "cell_type": "markdown",
   "id": "28ab10f8",
   "metadata": {
    "slideshow": {
     "slide_type": "slide"
    }
   },
   "source": [
    "带参数的层"
   ]
  },
  {
   "cell_type": "code",
   "execution_count": 10,
   "id": "f698e334",
   "metadata": {
    "execution": {
     "iopub.execute_input": "2022-12-07T17:00:43.885384Z",
     "iopub.status.busy": "2022-12-07T17:00:43.884832Z",
     "iopub.status.idle": "2022-12-07T17:00:43.891052Z",
     "shell.execute_reply": "2022-12-07T17:00:43.890262Z"
    },
    "origin_pos": 28,
    "tab": [
     "pytorch"
    ]
   },
   "outputs": [
    {
     "data": {
      "text/plain": [
       "tensor([[-1.3496,  1.0829,  1.1469],\n",
       "        [-1.2265, -2.4403,  0.2678],\n",
       "        [-2.0943,  0.2774, -0.0986],\n",
       "        [ 1.0643, -0.4559,  0.8944],\n",
       "        [ 0.6937, -0.3541,  2.3643]])"
      ]
     },
     "execution_count": 10,
     "metadata": {},
     "output_type": "execute_result"
    }
   ],
   "source": [
    "class MyLinear(nn.Module):\n",
    "    def __init__(self, in_units, units):\n",
    "        super().__init__()\n",
    "        # 自定义权重和偏差参数，必须使用Parameter来定义，他会知道要有梯度\n",
    "        self.weight = nn.Parameter(torch.randn(in_units, units))\n",
    "        self.bias = nn.Parameter(torch.randn(units,))\n",
    "    def forward(self, X):\n",
    "        linear = torch.matmul(X, self.weight.data) + self.bias.data\n",
    "        return F.relu(linear)\n",
    "\n",
    "linear = MyLinear(5, 3)\n",
    "linear.weight.data"
   ]
  },
  {
   "cell_type": "markdown",
   "id": "4d3a1de5",
   "metadata": {
    "slideshow": {
     "slide_type": "slide"
    }
   },
   "source": [
    "使用自定义层直接执行前向传播计算"
   ]
  },
  {
   "cell_type": "code",
   "execution_count": 11,
   "id": "73bdadeb",
   "metadata": {
    "execution": {
     "iopub.execute_input": "2022-12-07T17:00:43.894343Z",
     "iopub.status.busy": "2022-12-07T17:00:43.893790Z",
     "iopub.status.idle": "2022-12-07T17:00:43.899843Z",
     "shell.execute_reply": "2022-12-07T17:00:43.899055Z"
    },
    "origin_pos": 32,
    "tab": [
     "pytorch"
    ]
   },
   "outputs": [
    {
     "data": {
      "text/plain": [
       "tensor([[0.0000, 0.0000, 3.0656],\n",
       "        [0.0000, 0.0000, 4.3991]])"
      ]
     },
     "execution_count": 11,
     "metadata": {},
     "output_type": "execute_result"
    }
   ],
   "source": [
    "linear(torch.rand(2, 5))"
   ]
  },
  {
   "cell_type": "markdown",
   "id": "041ee3d9",
   "metadata": {
    "slideshow": {
     "slide_type": "-"
    }
   },
   "source": [
    "使用自定义层构建模型"
   ]
  },
  {
   "cell_type": "code",
   "execution_count": 12,
   "id": "062d9c7b",
   "metadata": {
    "execution": {
     "iopub.execute_input": "2022-12-07T17:00:43.903259Z",
     "iopub.status.busy": "2022-12-07T17:00:43.902701Z",
     "iopub.status.idle": "2022-12-07T17:00:43.909376Z",
     "shell.execute_reply": "2022-12-07T17:00:43.908630Z"
    },
    "origin_pos": 37,
    "tab": [
     "pytorch"
    ]
   },
   "outputs": [
    {
     "data": {
      "text/plain": [
       "tensor([[6.8213],\n",
       "        [6.5770]])"
      ]
     },
     "execution_count": 12,
     "metadata": {},
     "output_type": "execute_result"
    }
   ],
   "source": [
    "net = nn.Sequential(MyLinear(64, 8), MyLinear(8, 1))\n",
    "net(torch.rand(2, 64))"
   ]
  },
  {
   "cell_type": "code",
   "execution_count": null,
   "id": "7a4a9d01",
   "metadata": {},
   "outputs": [],
   "source": []
  }
 ],
 "metadata": {
  "celltoolbar": "Slideshow",
  "kernelspec": {
   "display_name": "d2l-zh",
   "language": "python",
   "name": "python3"
  },
  "language_info": {
   "codemirror_mode": {
    "name": "ipython",
    "version": 3
   },
   "file_extension": ".py",
   "mimetype": "text/x-python",
   "name": "python",
   "nbconvert_exporter": "python",
   "pygments_lexer": "ipython3",
   "version": "3.8.17"
  },
  "rise": {
   "autolaunch": true,
   "enable_chalkboard": true,
   "overlay": "<div class='my-top-right'><img height=80px src='http://d2l.ai/_static/logo-with-text.png'/></div><div class='my-top-left'></div>",
   "scroll": true
  }
 },
 "nbformat": 4,
 "nbformat_minor": 5
}
