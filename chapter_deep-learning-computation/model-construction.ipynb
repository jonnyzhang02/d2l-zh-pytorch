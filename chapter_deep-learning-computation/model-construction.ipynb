{
 "cells": [
  {
   "cell_type": "markdown",
   "id": "32e1bf03",
   "metadata": {
    "slideshow": {
     "slide_type": "-"
    }
   },
   "source": [
    "# 层和块\n",
    "\n",
    "我们先回顾一下多层感知机\n",
    "\n",
    "nn.Sequential是一个特殊的Module，Module是Pytorch中一个重要的概念。"
   ]
  },
  {
   "cell_type": "code",
   "execution_count": 5,
   "id": "b9bcbd98",
   "metadata": {
    "execution": {
     "iopub.execute_input": "2022-12-07T16:28:43.817066Z",
     "iopub.status.busy": "2022-12-07T16:28:43.816409Z",
     "iopub.status.idle": "2022-12-07T16:28:45.216452Z",
     "shell.execute_reply": "2022-12-07T16:28:45.215623Z"
    },
    "origin_pos": 2,
    "tab": [
     "pytorch"
    ]
   },
   "outputs": [
    {
     "data": {
      "text/plain": [
       "tensor([[-0.1475,  0.0159, -0.1177,  0.1073,  0.2203,  0.2706,  0.0914,  0.1171,\n",
       "         -0.2471,  0.1031],\n",
       "        [-0.1090,  0.0156, -0.0975,  0.0302,  0.2010,  0.0902, -0.0193,  0.1484,\n",
       "         -0.0643,  0.1076],\n",
       "        [-0.2749,  0.1184, -0.2542, -0.0799,  0.1495,  0.0940,  0.0667,  0.2203,\n",
       "         -0.1603,  0.1178],\n",
       "        [-0.1931, -0.0202, -0.0324,  0.0745,  0.1286,  0.2591, -0.0437,  0.1139,\n",
       "         -0.1461, -0.0087],\n",
       "        [-0.1196, -0.0079, -0.1701,  0.0151,  0.3508,  0.1624,  0.0555,  0.2084,\n",
       "         -0.1878,  0.1419],\n",
       "        [-0.1839,  0.0425, -0.1565, -0.0610,  0.1489,  0.1106,  0.0424,  0.1441,\n",
       "         -0.2367,  0.1702],\n",
       "        [-0.2434,  0.0356, -0.1619,  0.0172,  0.0574,  0.1731, -0.0662,  0.1566,\n",
       "         -0.1461,  0.1368],\n",
       "        [-0.3324,  0.0255, -0.3123, -0.0299,  0.2178,  0.2532, -0.0330,  0.2218,\n",
       "         -0.1687,  0.1344],\n",
       "        [-0.1630,  0.0058, -0.1298,  0.0770,  0.1091,  0.1280, -0.0814,  0.1591,\n",
       "         -0.1781,  0.0422],\n",
       "        [-0.2117, -0.0596, -0.1749, -0.0309,  0.1492,  0.1897, -0.0976,  0.2453,\n",
       "         -0.2186,  0.1558],\n",
       "        [-0.1829,  0.1243, -0.2324, -0.0305,  0.2854,  0.1707,  0.0087,  0.2676,\n",
       "         -0.1423,  0.1404],\n",
       "        [-0.1014,  0.1200, -0.2401,  0.0151,  0.2498,  0.0996, -0.0007,  0.3518,\n",
       "         -0.2204,  0.0863],\n",
       "        [-0.3193,  0.0470, -0.2705,  0.0745,  0.2246,  0.1406,  0.0135,  0.1777,\n",
       "         -0.1851,  0.1337]], grad_fn=<AddmmBackward0>)"
      ]
     },
     "execution_count": 5,
     "metadata": {},
     "output_type": "execute_result"
    }
   ],
   "source": [
    "import torch\n",
    "from torch import nn\n",
    "from torch.nn import functional as F  #实现了大量的常用的函数\n",
    "\n",
    "net = nn.Sequential(nn.Linear(20, 256), nn.ReLU(), nn.Linear(256, 10))\n",
    "\n",
    "X = torch.rand(13, 20)\n",
    "net(X)"
   ]
  },
  {
   "cell_type": "markdown",
   "id": "3c753775",
   "metadata": {
    "slideshow": {
     "slide_type": "-"
    }
   },
   "source": [
    "`nn.Sequential`定义了一种特殊的`Module`"
   ]
  },
  {
   "cell_type": "markdown",
   "id": "0320db9e",
   "metadata": {
    "slideshow": {
     "slide_type": "slide"
    }
   },
   "source": [
    "自定义块\n",
    "\n",
    "任何层或者神经网络它都是Module的一个子类"
   ]
  },
  {
   "cell_type": "code",
   "execution_count": 6,
   "id": "67970a47",
   "metadata": {
    "execution": {
     "iopub.execute_input": "2022-12-07T16:28:45.220410Z",
     "iopub.status.busy": "2022-12-07T16:28:45.219789Z",
     "iopub.status.idle": "2022-12-07T16:28:45.225103Z",
     "shell.execute_reply": "2022-12-07T16:28:45.224338Z"
    },
    "origin_pos": 14,
    "tab": [
     "pytorch"
    ]
   },
   "outputs": [],
   "source": [
    "class MLP(nn.Module):\n",
    "    def __init__(self):\n",
    "        super().__init__()\n",
    "        self.hidden = nn.Linear(20, 256)\n",
    "        self.out = nn.Linear(256, 10)\n",
    "\n",
    "    def forward(self, X):\n",
    "        return self.out(F.relu(self.hidden(X)))"
   ]
  },
  {
   "cell_type": "markdown",
   "id": "65ad8b5b",
   "metadata": {
    "slideshow": {
     "slide_type": "slide"
    }
   },
   "source": [
    "实例化多层感知机的层，然后在每次调用前向传播函数时调用这些层"
   ]
  },
  {
   "cell_type": "code",
   "execution_count": 7,
   "id": "c196f83b",
   "metadata": {
    "execution": {
     "iopub.execute_input": "2022-12-07T16:28:45.228240Z",
     "iopub.status.busy": "2022-12-07T16:28:45.227741Z",
     "iopub.status.idle": "2022-12-07T16:28:45.233871Z",
     "shell.execute_reply": "2022-12-07T16:28:45.233130Z"
    },
    "origin_pos": 19,
    "tab": [
     "pytorch"
    ]
   },
   "outputs": [
    {
     "data": {
      "text/plain": [
       "tensor([[ 0.1333,  0.1223, -0.0129,  0.0603, -0.0635,  0.0579,  0.0651, -0.1297,\n",
       "         -0.0852, -0.0322],\n",
       "        [ 0.2198,  0.1225, -0.0135, -0.0151, -0.0662,  0.1993,  0.1132, -0.1058,\n",
       "         -0.0293,  0.0373],\n",
       "        [ 0.0664,  0.0981, -0.0997,  0.0478, -0.0197,  0.0955,  0.0186, -0.2387,\n",
       "         -0.0726,  0.1784],\n",
       "        [ 0.2164,  0.1325,  0.0803,  0.1088, -0.1067,  0.1667,  0.0975, -0.1387,\n",
       "         -0.1251,  0.0394],\n",
       "        [ 0.2300,  0.0400, -0.0672,  0.0450,  0.0468,  0.1684,  0.1816, -0.1911,\n",
       "          0.0096,  0.0969],\n",
       "        [ 0.1019,  0.0661, -0.0151,  0.1244, -0.0524,  0.0364,  0.0859, -0.0744,\n",
       "         -0.0422,  0.1857],\n",
       "        [ 0.1487,  0.1178,  0.0352,  0.0301, -0.1610,  0.1546,  0.0483, -0.0741,\n",
       "         -0.1992,  0.0781],\n",
       "        [ 0.1464,  0.0480,  0.0650,  0.1156, -0.0781,  0.1089,  0.1531, -0.1400,\n",
       "         -0.1937,  0.1607],\n",
       "        [ 0.2629,  0.1264,  0.0543,  0.2460, -0.0579,  0.1285,  0.0740, -0.0281,\n",
       "         -0.0727,  0.0352],\n",
       "        [ 0.1660,  0.1472,  0.0986,  0.0944, -0.1993,  0.0685,  0.1978, -0.0292,\n",
       "         -0.2592,  0.2359],\n",
       "        [ 0.0879,  0.0076,  0.0295,  0.0717, -0.0673,  0.0373,  0.0719, -0.1178,\n",
       "         -0.0666,  0.0855],\n",
       "        [ 0.1787,  0.0282,  0.0302,  0.0951, -0.0785,  0.1643,  0.0740, -0.1815,\n",
       "         -0.0293,  0.1091],\n",
       "        [ 0.2004,  0.0713,  0.0201,  0.1050, -0.1597,  0.2264,  0.0480, -0.1103,\n",
       "         -0.0984,  0.0576]], grad_fn=<AddmmBackward0>)"
      ]
     },
     "execution_count": 7,
     "metadata": {},
     "output_type": "execute_result"
    }
   ],
   "source": [
    "net = MLP()\n",
    "net(X)"
   ]
  },
  {
   "cell_type": "markdown",
   "id": "45400e46",
   "metadata": {
    "slideshow": {
     "slide_type": "slide"
    }
   },
   "source": [
    "顺序块"
   ]
  },
  {
   "cell_type": "code",
   "execution_count": 9,
   "id": "47eaeca3",
   "metadata": {
    "execution": {
     "iopub.execute_input": "2022-12-07T16:28:45.248643Z",
     "iopub.status.busy": "2022-12-07T16:28:45.248107Z",
     "iopub.status.idle": "2022-12-07T16:28:45.254498Z",
     "shell.execute_reply": "2022-12-07T16:28:45.253795Z"
    },
    "origin_pos": 31,
    "tab": [
     "pytorch"
    ]
   },
   "outputs": [
    {
     "data": {
      "text/plain": [
       "tensor([[-0.2823,  0.1268, -0.0882, -0.0446,  0.0780,  0.3507,  0.0112,  0.2067,\n",
       "         -0.1938, -0.1716],\n",
       "        [-0.2472,  0.1245, -0.1337, -0.0296,  0.0358,  0.3724, -0.0504,  0.1640,\n",
       "         -0.1696, -0.1739],\n",
       "        [-0.1720,  0.0966, -0.0725, -0.0502,  0.1674,  0.4284, -0.1432,  0.2720,\n",
       "         -0.1891, -0.1263],\n",
       "        [-0.1921,  0.0479, -0.0618, -0.0994,  0.1448,  0.2566, -0.0216,  0.2942,\n",
       "         -0.1117, -0.1548],\n",
       "        [-0.2752,  0.2674, -0.0642, -0.0895,  0.1941,  0.3307,  0.0273,  0.2110,\n",
       "         -0.2092, -0.1797],\n",
       "        [-0.1497,  0.0755, -0.0728, -0.0471,  0.1507,  0.3213, -0.1075,  0.2528,\n",
       "         -0.2040, -0.0992],\n",
       "        [-0.2474, -0.0078, -0.1098, -0.0901,  0.2156,  0.3968, -0.1481,  0.2028,\n",
       "         -0.2634, -0.1489],\n",
       "        [-0.4370,  0.1675, -0.0349, -0.1193,  0.2424,  0.3380, -0.1130,  0.3659,\n",
       "         -0.2329, -0.1055],\n",
       "        [-0.1814, -0.0392, -0.0052,  0.0101,  0.1222,  0.2393,  0.0247,  0.2074,\n",
       "         -0.2448, -0.1954],\n",
       "        [-0.2742,  0.1990, -0.1324, -0.0472,  0.2285,  0.3984, -0.0539,  0.3685,\n",
       "         -0.2234, -0.1281],\n",
       "        [-0.1795,  0.0069, -0.1210, -0.0810,  0.2045,  0.4038, -0.1500,  0.1732,\n",
       "         -0.2426, -0.1233],\n",
       "        [-0.2185,  0.0711,  0.0128, -0.0063,  0.1961,  0.2706, -0.0705,  0.1852,\n",
       "         -0.2953, -0.1420],\n",
       "        [-0.3268, -0.0478, -0.1260, -0.0450,  0.1091,  0.2871, -0.0824,  0.2218,\n",
       "         -0.3594, -0.2941]], grad_fn=<AddmmBackward0>)"
      ]
     },
     "execution_count": 9,
     "metadata": {},
     "output_type": "execute_result"
    }
   ],
   "source": [
    "class MySequential(nn.Module):\n",
    "    # 自己实现一个Sequential类\n",
    "    def __init__(self, *args):\n",
    "        super().__init__()\n",
    "        for idx, module in enumerate(args): \n",
    "            # enumerate()函数用于将一个可遍历的数据对象(如列表、元组或字符串)组合为一个索引序列\n",
    "            self._modules[str(idx)] = module # _modules是OrderedDict类型\n",
    "\n",
    "    def forward(self, X):\n",
    "        for block in self._modules.values():\n",
    "            X = block(X)\n",
    "        return X\n",
    "\n",
    "net = MySequential(nn.Linear(20, 256), nn.ReLU(), nn.Linear(256, 10))\n",
    "net(X)"
   ]
  },
  {
   "cell_type": "markdown",
   "id": "86e490d9",
   "metadata": {
    "slideshow": {
     "slide_type": "slide"
    }
   },
   "source": [
    "在前向传播函数中执行代码"
   ]
  },
  {
   "cell_type": "code",
   "execution_count": 10,
   "id": "8e23cfb9",
   "metadata": {
    "execution": {
     "iopub.execute_input": "2022-12-07T16:28:45.265695Z",
     "iopub.status.busy": "2022-12-07T16:28:45.265428Z",
     "iopub.status.idle": "2022-12-07T16:28:45.271974Z",
     "shell.execute_reply": "2022-12-07T16:28:45.271209Z"
    },
    "origin_pos": 40,
    "tab": [
     "pytorch"
    ]
   },
   "outputs": [
    {
     "data": {
      "text/plain": [
       "tensor(-0.2984, grad_fn=<SumBackward0>)"
      ]
     },
     "execution_count": 10,
     "metadata": {},
     "output_type": "execute_result"
    }
   ],
   "source": [
    "class FixedHiddenMLP(nn.Module):\n",
    "    def __init__(self):\n",
    "        super().__init__()\n",
    "        self.rand_weight = torch.rand((20, 20), requires_grad=False) # 不参与训练的参数（常数参数）\n",
    "        self.linear = nn.Linear(20, 20)\n",
    "\n",
    "    def forward(self, X):\n",
    "        X = self.linear(X)\n",
    "        X = F.relu(torch.mm(X, self.rand_weight) + 1)  # 可以写很多自定义的计算\n",
    "        X = self.linear(X)\n",
    "        while X.abs().sum() > 1:\n",
    "            X /= 2\n",
    "        return X.sum()\n",
    "\n",
    "net = FixedHiddenMLP()\n",
    "net(X)"
   ]
  },
  {
   "cell_type": "markdown",
   "id": "ea3d23e2",
   "metadata": {
    "slideshow": {
     "slide_type": "slide"
    }
   },
   "source": [
    "混合搭配各种组合块的方法"
   ]
  },
  {
   "cell_type": "code",
   "execution_count": 8,
   "id": "cb1cf1d0",
   "metadata": {
    "execution": {
     "iopub.execute_input": "2022-12-07T16:28:45.276015Z",
     "iopub.status.busy": "2022-12-07T16:28:45.275750Z",
     "iopub.status.idle": "2022-12-07T16:28:45.285289Z",
     "shell.execute_reply": "2022-12-07T16:28:45.284572Z"
    },
    "origin_pos": 43,
    "tab": [
     "pytorch"
    ]
   },
   "outputs": [
    {
     "data": {
      "text/plain": [
       "tensor(-0.4822, grad_fn=<SumBackward0>)"
      ]
     },
     "execution_count": 8,
     "metadata": {},
     "output_type": "execute_result"
    }
   ],
   "source": [
    "class NestMLP(nn.Module):\n",
    "    def __init__(self):\n",
    "        super().__init__()\n",
    "        self.net = nn.Sequential(   nn.Linear(20, 64), nn.ReLU(),\n",
    "                                    nn.Linear(64, 32), nn.ReLU()) # 可以混合使用\n",
    "        self.linear = nn.Linear(32, 16)\n",
    "\n",
    "    def forward(self, X):\n",
    "        return self.linear(self.net(X))\n",
    "\n",
    "chimera = nn.Sequential(NestMLP(), nn.Linear(16, 20), FixedHiddenMLP())\n",
    "chimera(X)"
   ]
  }
 ],
 "metadata": {
  "celltoolbar": "Slideshow",
  "kernelspec": {
   "display_name": "d2l-zh",
   "language": "python",
   "name": "python3"
  },
  "language_info": {
   "codemirror_mode": {
    "name": "ipython",
    "version": 3
   },
   "file_extension": ".py",
   "mimetype": "text/x-python",
   "name": "python",
   "nbconvert_exporter": "python",
   "pygments_lexer": "ipython3",
   "version": "3.8.17"
  },
  "rise": {
   "autolaunch": true,
   "enable_chalkboard": true,
   "overlay": "<div class='my-top-right'><img height=80px src='http://d2l.ai/_static/logo-with-text.png'/></div><div class='my-top-left'></div>",
   "scroll": true
  }
 },
 "nbformat": 4,
 "nbformat_minor": 5
}
