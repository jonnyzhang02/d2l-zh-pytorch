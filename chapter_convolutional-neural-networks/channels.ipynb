{
 "cells": [
  {
   "cell_type": "markdown",
   "id": "e83ffe73",
   "metadata": {
    "slideshow": {
     "slide_type": "-"
    }
   },
   "source": [
    "# 多输入多输出通道\n",
    "\n",
    "实现一下多输入通道互相关运算"
   ]
  },
  {
   "cell_type": "code",
   "execution_count": 3,
   "id": "17b6ac9b",
   "metadata": {
    "execution": {
     "iopub.execute_input": "2022-12-07T16:46:41.516654Z",
     "iopub.status.busy": "2022-12-07T16:46:41.516082Z",
     "iopub.status.idle": "2022-12-07T16:46:41.520583Z",
     "shell.execute_reply": "2022-12-07T16:46:41.519870Z"
    },
    "origin_pos": 4,
    "tab": [
     "pytorch"
    ]
   },
   "outputs": [],
   "source": [
    "import torch\n",
    "from d2l import torch as d2l\n",
    "\n",
    "def corr2d_multi_in(X, K):\n",
    "    # zip()函数用于将可迭代的对象作为参数，将对象中对应的元素打包成一个个元组，然后返回由这些元组组成的列表\n",
    "    # 即对于X中的每个通道（最外层的维度），都与K做卷积，然后相加\n",
    "    return sum(d2l.corr2d(x, k) for x, k in zip(X, K)) # 逐个通道做卷积，然后相加"
   ]
  },
  {
   "cell_type": "markdown",
   "id": "0d004dc2",
   "metadata": {
    "slideshow": {
     "slide_type": "-"
    }
   },
   "source": [
    "验证互相关运算的输出"
   ]
  },
  {
   "cell_type": "code",
   "execution_count": 4,
   "id": "cd65d964",
   "metadata": {
    "execution": {
     "iopub.execute_input": "2022-12-07T16:46:41.523694Z",
     "iopub.status.busy": "2022-12-07T16:46:41.523242Z",
     "iopub.status.idle": "2022-12-07T16:46:41.555743Z",
     "shell.execute_reply": "2022-12-07T16:46:41.554661Z"
    },
    "origin_pos": 7,
    "tab": [
     "pytorch"
    ]
   },
   "outputs": [
    {
     "data": {
      "text/plain": [
       "tensor([[ 56.,  72.],\n",
       "        [104., 120.]])"
      ]
     },
     "execution_count": 4,
     "metadata": {},
     "output_type": "execute_result"
    }
   ],
   "source": [
    "X = torch.tensor(\n",
    "                [[[0.0, 1.0, 2.0], [3.0, 4.0, 5.0], [6.0, 7.0, 8.0]],\n",
    "                [[1.0, 2.0, 3.0], [4.0, 5.0, 6.0], [7.0, 8.0, 9.0]]]\n",
    "                ) # 2个通道，每个通道3*3的矩阵\n",
    "K = torch.tensor(\n",
    "                [[[0.0, 1.0], [2.0, 3.0]], [[1.0, 2.0], [3.0, 4.0]]]\n",
    "                ) # 2个通道，每个通道2*2的矩阵\n",
    "\n",
    "corr2d_multi_in(X, K) \n",
    "# 得到一个通道，2*2的矩阵"
   ]
  },
  {
   "cell_type": "markdown",
   "id": "c60c3e80",
   "metadata": {
    "slideshow": {
     "slide_type": "slide"
    }
   },
   "source": [
    "计算多个通道的输出的互相关函数"
   ]
  },
  {
   "cell_type": "code",
   "execution_count": 5,
   "id": "94120658",
   "metadata": {
    "execution": {
     "iopub.execute_input": "2022-12-07T16:46:41.567411Z",
     "iopub.status.busy": "2022-12-07T16:46:41.566965Z",
     "iopub.status.idle": "2022-12-07T16:46:41.573775Z",
     "shell.execute_reply": "2022-12-07T16:46:41.572744Z"
    },
    "origin_pos": 11,
    "tab": [
     "pytorch"
    ]
   },
   "outputs": [
    {
     "data": {
      "text/plain": [
       "torch.Size([3, 2, 2, 2])"
      ]
     },
     "execution_count": 5,
     "metadata": {},
     "output_type": "execute_result"
    }
   ],
   "source": [
    "def corr2d_multi_in_out(X, K):\n",
    "    return torch.stack([corr2d_multi_in(X, k) for k in K], 0)\n",
    "\n",
    "K = torch.stack((K, K + 1, K + 2), 0)\n",
    "K.shape"
   ]
  },
  {
   "cell_type": "code",
   "execution_count": 6,
   "id": "e91e4797",
   "metadata": {
    "execution": {
     "iopub.execute_input": "2022-12-07T16:46:41.577253Z",
     "iopub.status.busy": "2022-12-07T16:46:41.576737Z",
     "iopub.status.idle": "2022-12-07T16:46:41.585070Z",
     "shell.execute_reply": "2022-12-07T16:46:41.584049Z"
    },
    "origin_pos": 13,
    "tab": [
     "pytorch"
    ]
   },
   "outputs": [
    {
     "data": {
      "text/plain": [
       "tensor([[[ 56.,  72.],\n",
       "         [104., 120.]],\n",
       "\n",
       "        [[ 76., 100.],\n",
       "         [148., 172.]],\n",
       "\n",
       "        [[ 96., 128.],\n",
       "         [192., 224.]]])"
      ]
     },
     "execution_count": 6,
     "metadata": {},
     "output_type": "execute_result"
    }
   ],
   "source": [
    "corr2d_multi_in_out(X, K)"
   ]
  },
  {
   "cell_type": "markdown",
   "id": "9fbca44b",
   "metadata": {
    "slideshow": {
     "slide_type": "slide"
    }
   },
   "source": [
    "1x1卷积"
   ]
  },
  {
   "cell_type": "code",
   "execution_count": 7,
   "id": "168724fb",
   "metadata": {
    "execution": {
     "iopub.execute_input": "2022-12-07T16:46:41.605027Z",
     "iopub.status.busy": "2022-12-07T16:46:41.604179Z",
     "iopub.status.idle": "2022-12-07T16:46:41.611021Z",
     "shell.execute_reply": "2022-12-07T16:46:41.609969Z"
    },
    "origin_pos": 19,
    "tab": [
     "pytorch"
    ]
   },
   "outputs": [],
   "source": [
    "def corr2d_multi_in_out_1x1(X, K):\n",
    "    c_i, h, w = X.shape\n",
    "    c_o = K.shape[0]\n",
    "    X = X.reshape((c_i, h * w))\n",
    "    K = K.reshape((c_o, c_i))\n",
    "    Y = torch.matmul(K, X)\n",
    "    return Y.reshape((c_o, h, w))\n",
    "\n",
    "X = torch.normal(0, 1, (3, 3, 3))\n",
    "K = torch.normal(0, 1, (2, 3, 1, 1))\n",
    "\n",
    "Y1 = corr2d_multi_in_out_1x1(X, K)\n",
    "Y2 = corr2d_multi_in_out(X, K)\n",
    "assert float(torch.abs(Y1 - Y2).sum()) < 1e-6"
   ]
  },
  {
   "cell_type": "code",
   "execution_count": null,
   "id": "7af5d91b",
   "metadata": {},
   "outputs": [],
   "source": []
  }
 ],
 "metadata": {
  "celltoolbar": "Slideshow",
  "kernelspec": {
   "display_name": "d2l-zh",
   "language": "python",
   "name": "python3"
  },
  "language_info": {
   "codemirror_mode": {
    "name": "ipython",
    "version": 3
   },
   "file_extension": ".py",
   "mimetype": "text/x-python",
   "name": "python",
   "nbconvert_exporter": "python",
   "pygments_lexer": "ipython3",
   "version": "3.8.17"
  },
  "rise": {
   "autolaunch": true,
   "enable_chalkboard": true,
   "overlay": "<div class='my-top-right'><img height=80px src='http://d2l.ai/_static/logo-with-text.png'/></div><div class='my-top-left'></div>",
   "scroll": true
  }
 },
 "nbformat": 4,
 "nbformat_minor": 5
}
